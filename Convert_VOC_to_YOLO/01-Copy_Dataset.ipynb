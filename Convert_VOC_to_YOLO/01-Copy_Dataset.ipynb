{
 "cells": [
  {
   "cell_type": "markdown",
   "id": "af099b7c",
   "metadata": {},
   "source": [
    "# Copy dataset to folders"
   ]
  },
  {
   "cell_type": "code",
   "execution_count": 1,
   "id": "79bf9d27",
   "metadata": {},
   "outputs": [],
   "source": [
    "# Imports\n",
    "import shutil"
   ]
  },
  {
   "cell_type": "code",
   "execution_count": 2,
   "id": "c876155a",
   "metadata": {},
   "outputs": [],
   "source": [
    "# Constantes\n",
    "TRAIN_TXT_FILE = \"../SSD/dataset/VOCtrainval2007/VOC2007/ImageSets/Main/trainval.txt\"\n",
    "TEST_TXT_FILE = \"../SSD/dataset/VOCtrainval2007/VOC2007/ImageSets/Main/test.txt\"\n",
    "FOLDER_ANNOT = \"../SSD/dataset/VOCtrainval2007/VOC2007/Annotations/\"\n",
    "FOLDER_IMAGES = \"../SSD/dataset/VOCtrainval2007/VOC2007/JPEGImages/\"\n",
    "\n",
    "FOLDER_TRAIN = \"./Train/\"\n",
    "FOLDER_TEST = \"./Test/\""
   ]
  },
  {
   "cell_type": "markdown",
   "id": "66ff6e3f",
   "metadata": {},
   "source": [
    "## Treinamento"
   ]
  },
  {
   "cell_type": "code",
   "execution_count": 3,
   "id": "befd7016",
   "metadata": {},
   "outputs": [],
   "source": [
    "# Ler arquivo txt de treinamento\n",
    "txt_train = []\n",
    "\n",
    "with open(TRAIN_TXT_FILE) as f:\n",
    "    while True:\n",
    "        line = f.readline()\n",
    "        if not line:\n",
    "            break\n",
    "        txt_train.append( line.strip() )"
   ]
  },
  {
   "cell_type": "code",
   "execution_count": 6,
   "id": "1384c3e0",
   "metadata": {},
   "outputs": [],
   "source": [
    "# Copiar annotations e images para a pasta de treinamento\n",
    "for item in txt_train:\n",
    "    # Copiar annotation para a pasta de treinamento\n",
    "    shutil.copyfile(\n",
    "        FOLDER_ANNOT + item + \".xml\", \n",
    "        FOLDER_TRAIN + \"annotations/\" + item + \".xml\"\n",
    "    )\n",
    "    \n",
    "    # Copiar images para a pasta de treinamento\n",
    "    shutil.copyfile(\n",
    "        FOLDER_IMAGES + item + \".jpg\", \n",
    "        FOLDER_TRAIN + \"images/\" + item + \".jpg\"\n",
    "    )"
   ]
  },
  {
   "cell_type": "markdown",
   "id": "95beaed5",
   "metadata": {},
   "source": [
    "## Teste"
   ]
  },
  {
   "cell_type": "code",
   "execution_count": 3,
   "id": "13a17ba9",
   "metadata": {},
   "outputs": [],
   "source": [
    "# Ler arquivo txt de treinamento\n",
    "txt_test = []\n",
    "\n",
    "with open(TEST_TXT_FILE) as f:\n",
    "    while True:\n",
    "        line = f.readline()\n",
    "        if not line:\n",
    "            break\n",
    "        txt_test.append( line.strip() )"
   ]
  },
  {
   "cell_type": "code",
   "execution_count": 4,
   "id": "533d9f8c",
   "metadata": {},
   "outputs": [],
   "source": [
    "# Copiar annotations e images para a pasta de treinamento\n",
    "for item in txt_test:\n",
    "    # Copiar annotation para a pasta de treinamento\n",
    "    shutil.copyfile(\n",
    "        FOLDER_ANNOT + item + \".xml\", \n",
    "        FOLDER_TEST + \"annotations/\" + item + \".xml\"\n",
    "    )\n",
    "    \n",
    "    # Copiar images para a pasta de treinamento\n",
    "    shutil.copyfile(\n",
    "        FOLDER_IMAGES + item + \".jpg\", \n",
    "        FOLDER_TEST + \"images/\" + item + \".jpg\"\n",
    "    )"
   ]
  }
 ],
 "metadata": {
  "kernelspec": {
   "display_name": "Python 3 (ipykernel)",
   "language": "python",
   "name": "python3"
  },
  "language_info": {
   "codemirror_mode": {
    "name": "ipython",
    "version": 3
   },
   "file_extension": ".py",
   "mimetype": "text/x-python",
   "name": "python",
   "nbconvert_exporter": "python",
   "pygments_lexer": "ipython3",
   "version": "3.10.9"
  }
 },
 "nbformat": 4,
 "nbformat_minor": 5
}
