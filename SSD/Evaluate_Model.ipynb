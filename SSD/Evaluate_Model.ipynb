{
 "cells": [
  {
   "cell_type": "markdown",
   "id": "3d949634-51ca-443f-8c45-a5a2ce10b9a4",
   "metadata": {
    "tags": []
   },
   "source": [
    "# Evaluate Model"
   ]
  },
  {
   "cell_type": "markdown",
   "id": "3edb74d5-193e-4479-be4f-89f18dd52b4a",
   "metadata": {
    "tags": []
   },
   "source": [
    "## SSD"
   ]
  },
  {
   "cell_type": "code",
   "execution_count": 1,
   "id": "c821346a-4d13-4462-9273-e2e44140a271",
   "metadata": {},
   "outputs": [],
   "source": [
    "!pip install -q tqdm"
   ]
  },
  {
   "cell_type": "code",
   "execution_count": 19,
   "id": "ed4cba7f-234a-4ff7-96c7-3709186930cc",
   "metadata": {},
   "outputs": [],
   "source": [
    "# Imports\n",
    "import os\n",
    "import tqdm\n",
    "import numpy as np\n",
    "import torch\n",
    "import torch.nn.functional as F\n",
    "from config import opt\n",
    "from core.ssd import SSD\n",
    "from core.multibox_encoder import MultiBoxEncoder\n",
    "from core.voc_dataset import VOCDetection\n",
    "from core.voc_dataset import VOC_LABELS\n",
    "from core.augmentations import preproc_for_test\n",
    "from core.utils import detect\n",
    "from core.voc_eval import voc_eval"
   ]
  },
  {
   "cell_type": "code",
   "execution_count": 17,
   "id": "4fd8d715-31e6-48ad-abc0-36c30f183776",
   "metadata": {},
   "outputs": [],
   "source": [
    "# Constantes\n",
    "MODEL_SSD_FILE = \"./modelo/modelo-final.pth\"\n",
    "DEVICE = torch.device('cuda:0' if torch.cuda.is_available() else 'cpu')\n",
    "OUTPUT_DIR = \"./output\"\n",
    "\n",
    "# Diretório de imagens de treino\n",
    "voc_root = opt.VOC_ROOT\n",
    "\n",
    "# Join das imagens\n",
    "annopath = os.path.join(voc_root, 'VOCtrainval2007', 'VOC2007', 'Annotations', \"%s.xml\")  \n",
    "imgpath = os.path.join(voc_root, 'VOCtrainval2007', 'VOC2007', 'JPEGImages', '%s.jpg')    \n",
    "imgsetpath = os.path.join(voc_root, 'VOCtrainval2007', 'VOC2007', 'ImageSets', 'Main', '{:s}.txt')   \n",
    "cachedir = os.path.join( os.getcwd(), 'annotations_cache')  "
   ]
  },
  {
   "cell_type": "code",
   "execution_count": 4,
   "id": "16866665-9c36-48bc-b063-b2470f85cc3f",
   "metadata": {},
   "outputs": [],
   "source": [
    "# Instanciar modelo\n",
    "model_ssd = SSD(opt.num_classes, opt.anchor_num)"
   ]
  },
  {
   "cell_type": "code",
   "execution_count": 5,
   "id": "b21e930f-7473-46e3-b139-bafc749622b6",
   "metadata": {},
   "outputs": [],
   "source": [
    "# Carregar estado do dicionario\n",
    "state_dict = torch.load(MODEL_SSD_FILE, map_location=None if torch.cuda.is_available() else 'cpu')"
   ]
  },
  {
   "cell_type": "code",
   "execution_count": 6,
   "id": "12b1b9fe-b452-47ad-9372-21c01c48d663",
   "metadata": {},
   "outputs": [
    {
     "name": "stdout",
     "output_type": "stream",
     "text": [
      "Modelo Carregado\n"
     ]
    }
   ],
   "source": [
    "# Carrega o modelo\n",
    "model_ssd.load_state_dict(state_dict)\n",
    "model_ssd.to(DEVICE)\n",
    "print('Modelo Carregado')"
   ]
  },
  {
   "cell_type": "code",
   "execution_count": 7,
   "id": "27b95602-d2b8-4dd4-bfda-3e9c4d912fed",
   "metadata": {},
   "outputs": [],
   "source": [
    "# Avaliação do modelo\n",
    "model_ssd.eval()\n",
    "multibox_encoder = MultiBoxEncoder(opt)"
   ]
  },
  {
   "cell_type": "code",
   "execution_count": 8,
   "id": "0a39743f-9ead-46ad-b900-804cbe9496be",
   "metadata": {},
   "outputs": [],
   "source": [
    "# Imagens de teste\n",
    "image_sets = [['2007', 'test']]\n",
    "test_dataset = VOCDetection(opt, image_sets = image_sets, is_train = False)"
   ]
  },
  {
   "cell_type": "code",
   "execution_count": 9,
   "id": "c37ddf16-a59d-425c-b55d-cadb78047f03",
   "metadata": {},
   "outputs": [],
   "source": [
    "files = [open(os.path.join(OUTPUT_DIR, '{:s}.txt'.format(label)), mode = 'w')\n",
    "        for label in [VOC_LABELS]]"
   ]
  },
  {
   "cell_type": "code",
   "execution_count": 10,
   "id": "ef57e2be-809e-4253-8244-8da1a0a3204a",
   "metadata": {},
   "outputs": [
    {
     "name": "stderr",
     "output_type": "stream",
     "text": [
      "100%|██████████████████████████████████████████████████████████████████████| 133/133 [01:28<00:00,  1.51it/s]\n"
     ]
    }
   ],
   "source": [
    "# Loop\n",
    "for i in tqdm.tqdm(range(len(test_dataset))):\n",
    "    src = test_dataset[i][0]\n",
    "        \n",
    "    img_name = os.path.basename(test_dataset.ids[i][0]).split('.')[0]\n",
    "    image = preproc_for_test(src, opt.min_size, opt.mean)\n",
    "    image = torch.from_numpy(image).to(DEVICE)\n",
    "    \n",
    "    with torch.no_grad():\n",
    "        loc, conf = model_ssd(image.unsqueeze(0))\n",
    "    \n",
    "    loc = loc[0]\n",
    "    conf = conf[0]\n",
    "    conf = F.softmax(conf, dim=1)\n",
    "    conf = conf.cpu().numpy()\n",
    "    loc = loc.cpu().numpy()\n",
    "    \n",
    "    decode_loc = multibox_encoder.decode(loc)\n",
    "    gt_boxes, gt_confs, gt_labels = detect(decode_loc, conf, nms_threshold = 0.5, gt_threshold = 0.01)\n",
    "    \n",
    "    # Nenhum objecto detectado\n",
    "    if len(gt_boxes) == 0:\n",
    "        continue\n",
    "    \n",
    "    h, w = src.shape[:2]\n",
    "    gt_boxes[:, 0] = gt_boxes[:, 0] * w\n",
    "    gt_boxes[:, 1] = gt_boxes[:, 1] * h\n",
    "    gt_boxes[:, 2] = gt_boxes[:, 2] * w\n",
    "    gt_boxes[:, 3] = gt_boxes[:, 3] * h\n",
    "    \n",
    "    for box, label, score in zip(gt_boxes, gt_labels, gt_confs):\n",
    "        print(img_name, \"{:.3f}\".format(score), \"{:.1f} {:.1f} {:.1f} {:.1f}\".format(*box), file = files[label])"
   ]
  },
  {
   "cell_type": "code",
   "execution_count": 12,
   "id": "2d094a4c-7a6d-4512-ac16-612a260c2006",
   "metadata": {},
   "outputs": [
    {
     "name": "stdout",
     "output_type": "stream",
     "text": [
      "Fechando arquivo ssd/output/pothole.txt\n"
     ]
    }
   ],
   "source": [
    "for f in files:\n",
    "    print(\"Fechando arquivo\", f.name)\n",
    "    f.close()"
   ]
  },
  {
   "cell_type": "code",
   "execution_count": 20,
   "id": "9d4be9d3-d825-4b46-a5d3-9947942a2d9b",
   "metadata": {},
   "outputs": [
    {
     "name": "stdout",
     "output_type": "stream",
     "text": [
      "Calcula MAP.........\n",
      "pothole 0.7359894920909409\n",
      "MAP Médio:  0.7359894920909409\n"
     ]
    }
   ],
   "source": [
    "print('Calcula MAP.........')\n",
    "aps = []\n",
    "for f in os.listdir(OUTPUT_DIR):\n",
    "    filename = os.path.join(OUTPUT_DIR, f)\n",
    "    class_name = f.split('.')[0]\n",
    "    rec, prec, ap = voc_eval(filename, annopath, imgsetpath.format('test'), class_name, cachedir, ovthresh = 0.1, use_07_metric = True)\n",
    "    print(class_name, ap)\n",
    "    aps.append(ap)\n",
    "\n",
    "print('MAP Médio: ', np.mean(aps))"
   ]
  }
 ],
 "metadata": {
  "kernelspec": {
   "display_name": "Python 3 (ipykernel)",
   "language": "python",
   "name": "python3"
  },
  "language_info": {
   "codemirror_mode": {
    "name": "ipython",
    "version": 3
   },
   "file_extension": ".py",
   "mimetype": "text/x-python",
   "name": "python",
   "nbconvert_exporter": "python",
   "pygments_lexer": "ipython3",
   "version": "3.10.9"
  }
 },
 "nbformat": 4,
 "nbformat_minor": 5
}
