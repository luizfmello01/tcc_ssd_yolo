{
 "cells": [
  {
   "cell_type": "code",
   "execution_count": 1,
   "id": "ce580f68",
   "metadata": {},
   "outputs": [],
   "source": [
    "import numpy as np"
   ]
  },
  {
   "cell_type": "code",
   "execution_count": 2,
   "id": "eba14c73",
   "metadata": {},
   "outputs": [],
   "source": [
    "np.random.seed(367)"
   ]
  },
  {
   "cell_type": "code",
   "execution_count": 3,
   "id": "4fc38245",
   "metadata": {},
   "outputs": [],
   "source": [
    "train_file = open(\"./train_old.txt\")"
   ]
  },
  {
   "cell_type": "code",
   "execution_count": 4,
   "id": "77e77ae6",
   "metadata": {},
   "outputs": [],
   "source": [
    "train_raw = train_file.readlines()"
   ]
  },
  {
   "cell_type": "code",
   "execution_count": 5,
   "id": "ed292802",
   "metadata": {},
   "outputs": [],
   "source": [
    "TAM = len(train_raw)"
   ]
  },
  {
   "cell_type": "code",
   "execution_count": 6,
   "id": "d557abab",
   "metadata": {},
   "outputs": [
    {
     "data": {
      "text/plain": [
       "'img-110\\n'"
      ]
     },
     "execution_count": 6,
     "metadata": {},
     "output_type": "execute_result"
    }
   ],
   "source": [
    "# Primeiro registro\n",
    "train_raw[0]"
   ]
  },
  {
   "cell_type": "code",
   "execution_count": 7,
   "id": "bbda2fdc",
   "metadata": {},
   "outputs": [],
   "source": [
    "np.random.shuffle(train_raw)"
   ]
  },
  {
   "cell_type": "code",
   "execution_count": 8,
   "id": "d84f6e92",
   "metadata": {},
   "outputs": [
    {
     "data": {
      "text/plain": [
       "'img-542\\n'"
      ]
     },
     "execution_count": 8,
     "metadata": {},
     "output_type": "execute_result"
    }
   ],
   "source": [
    "# Primeiro registro\n",
    "train_raw[0]"
   ]
  },
  {
   "cell_type": "code",
   "execution_count": 9,
   "id": "c3be8b52",
   "metadata": {},
   "outputs": [],
   "source": [
    "qtd_idx = np.int32(np.floor(TAM * 0.10)) + 1"
   ]
  },
  {
   "cell_type": "code",
   "execution_count": 10,
   "id": "616d01bd",
   "metadata": {},
   "outputs": [],
   "source": [
    "train = train_raw[qtd_idx:]\n",
    "trainval = train_raw[:qtd_idx]"
   ]
  },
  {
   "cell_type": "code",
   "execution_count": 11,
   "id": "de4db6ef",
   "metadata": {},
   "outputs": [
    {
     "data": {
      "text/plain": [
       "True"
      ]
     },
     "execution_count": 11,
     "metadata": {},
     "output_type": "execute_result"
    }
   ],
   "source": [
    "len(train) + len(trainval) == TAM"
   ]
  },
  {
   "cell_type": "code",
   "execution_count": 12,
   "id": "c039cca1",
   "metadata": {},
   "outputs": [],
   "source": [
    "# Escrever train.txt\n",
    "with open('./train.txt', 'w') as f:\n",
    "    for i in train:\n",
    "        f.write(i)"
   ]
  },
  {
   "cell_type": "code",
   "execution_count": 13,
   "id": "1b417c2c",
   "metadata": {},
   "outputs": [],
   "source": [
    "# Escrever trainval.txt\n",
    "with open('./trainval.txt', 'w') as f:\n",
    "    for i in trainval:\n",
    "        f.write(i)"
   ]
  }
 ],
 "metadata": {
  "kernelspec": {
   "display_name": "Potheles_SSD",
   "language": "python",
   "name": "potheles_ssd"
  },
  "language_info": {
   "codemirror_mode": {
    "name": "ipython",
    "version": 3
   },
   "file_extension": ".py",
   "mimetype": "text/x-python",
   "name": "python",
   "nbconvert_exporter": "python",
   "pygments_lexer": "ipython3",
   "version": "3.9.0"
  }
 },
 "nbformat": 4,
 "nbformat_minor": 5
}
